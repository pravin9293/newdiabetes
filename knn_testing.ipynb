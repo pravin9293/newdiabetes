{
 "cells": [
  {
   "cell_type": "code",
   "execution_count": 1,
   "id": "e9c912f0",
   "metadata": {},
   "outputs": [],
   "source": [
    "import json\n",
    "import pickle\n",
    "\n",
    "import numpy as np\n",
    "import pandas as pd"
   ]
  },
  {
   "cell_type": "code",
   "execution_count": 11,
   "id": "65e27f08",
   "metadata": {},
   "outputs": [
    {
     "ename": "NameError",
     "evalue": "name 'config' is not defined",
     "output_type": "error",
     "traceback": [
      "\u001b[1;31m---------------------------------------------------------------------------\u001b[0m",
      "\u001b[1;31mNameError\u001b[0m                                 Traceback (most recent call last)",
      "Cell \u001b[1;32mIn[11], line 1\u001b[0m\n\u001b[1;32m----> 1\u001b[0m \u001b[38;5;28;01mwith\u001b[39;00m \u001b[38;5;28mopen\u001b[39m(\u001b[43mconfig\u001b[49m\u001b[38;5;241m.\u001b[39mMODEL_FILE_PATH,\u001b[38;5;124m\"\u001b[39m\u001b[38;5;124mrb\u001b[39m\u001b[38;5;124m\"\u001b[39m) \u001b[38;5;28;01mas\u001b[39;00m f:\n\u001b[0;32m      2\u001b[0m     model \u001b[38;5;241m=\u001b[39m pickle\u001b[38;5;241m.\u001b[39mload(f)\n\u001b[0;32m      3\u001b[0m model\n",
      "\u001b[1;31mNameError\u001b[0m: name 'config' is not defined"
     ]
    }
   ],
   "source": [
    "with open(config.MODEL_FILE_PATH,\"rb\") as f:\n",
    "    model = pickle.load(f)\n",
    "model"
   ]
  },
  {
   "cell_type": "code",
   "execution_count": 12,
   "id": "46bd3a9b",
   "metadata": {},
   "outputs": [],
   "source": [
    "Glucose = 148.000\n",
    "BloodPressure = 50.000\n",
    "SkinThickness = 35.000\n",
    "Insulin = 0.000\n",
    "BMI = 33.600\n",
    "DiabetesPedigreeFunction = 0.627\n",
    "Age = 50.000"
   ]
  },
  {
   "cell_type": "code",
   "execution_count": 15,
   "id": "bdc7d9e3",
   "metadata": {},
   "outputs": [],
   "source": [
    "lucose = 0\n",
    "BloodPressure = 0\n",
    "SkinThickness = 0\n",
    "Insulin = 0.000\n",
    "BMI = 0\n",
    "DiabetesPedigreeFunction = 0\n",
    "Age = 0"
   ]
  },
  {
   "cell_type": "code",
   "execution_count": 16,
   "id": "59235905",
   "metadata": {},
   "outputs": [
    {
     "name": "stderr",
     "output_type": "stream",
     "text": [
      "C:\\ProgramData\\Anaconda3\\lib\\site-packages\\sklearn\\base.py:409: UserWarning: X does not have valid feature names, but KNeighborsClassifier was fitted with feature names\n",
      "  warnings.warn(\n"
     ]
    },
    {
     "data": {
      "text/plain": [
       "1"
      ]
     },
     "execution_count": 16,
     "metadata": {},
     "output_type": "execute_result"
    }
   ],
   "source": [
    "array = np.array([Glucose,BloodPressure,SkinThickness,Insulin,BMI,DiabetesPedigreeFunction,Age], ndmin=2)\n",
    "test_df = pd.DataFrame(array, columns=model.feature_names_in_)\n",
    "model.predict(array)[0]"
   ]
  },
  {
   "cell_type": "code",
   "execution_count": null,
   "id": "13fb9fb0",
   "metadata": {},
   "outputs": [],
   "source": []
  },
  {
   "cell_type": "code",
   "execution_count": null,
   "id": "899d7a8e",
   "metadata": {},
   "outputs": [],
   "source": []
  }
 ],
 "metadata": {
  "kernelspec": {
   "display_name": "Python 3 (ipykernel)",
   "language": "python",
   "name": "python3"
  },
  "language_info": {
   "codemirror_mode": {
    "name": "ipython",
    "version": 3
   },
   "file_extension": ".py",
   "mimetype": "text/x-python",
   "name": "python",
   "nbconvert_exporter": "python",
   "pygments_lexer": "ipython3",
   "version": "3.9.16"
  }
 },
 "nbformat": 4,
 "nbformat_minor": 5
}
